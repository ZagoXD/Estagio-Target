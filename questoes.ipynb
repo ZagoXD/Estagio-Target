{
 "cells": [
  {
   "cell_type": "code",
   "execution_count": null,
   "metadata": {},
   "outputs": [],
   "source": [
    "# Questão 1\n",
    "# Soma = 1 + 2 + 3 + 4 + 5 + 6 + 7 + 8 + 9 + 10 + 11 + 12 + 13\n",
    "# O valor final de soma é 91"
   ]
  },
  {
   "cell_type": "code",
   "execution_count": 4,
   "metadata": {},
   "outputs": [
    {
     "name": "stdout",
     "output_type": "stream",
     "text": [
      "O número 2 pertence a sequência de Fibonacci.\n"
     ]
    }
   ],
   "source": [
    "# Questão 2\n",
    "def fibonacci(n):\n",
    "    a, b = 0, 1\n",
    "    while a <= n:\n",
    "        if a == n:\n",
    "            return True\n",
    "        a, b = b, a + b\n",
    "    return False\n",
    "\n",
    "def main():\n",
    "    numero = int(input(\"Informe um número: \"))\n",
    "    if fibonacci(numero):\n",
    "        print(f\"O número {numero} pertence a sequência de Fibonacci.\")\n",
    "    else:\n",
    "        print(f\"O número {numero} não pertence a sequência de Fibonacci.\")\n",
    "\n",
    "if __name__ == '__main__':\n",
    "    main()\n"
   ]
  },
  {
   "cell_type": "code",
   "execution_count": 6,
   "metadata": {},
   "outputs": [
    {
     "name": "stdout",
     "output_type": "stream",
     "text": [
      "Menor valor de faturamento: 0.01\n",
      "Maior valor de faturamento: 643537.46\n",
      "Número de dias com faturamento acima da média: 3\n"
     ]
    }
   ],
   "source": [
    "# Questão 3\n",
    "\n",
    "import json\n",
    "\n",
    "def calcular_faturamento(dados):\n",
    "    faturamento_valido = [dia['valor'] for dia in dados if dia['valor'] > 0]\n",
    "    menor_faturamento = min(faturamento_valido)\n",
    "    maior_faturamento = max(faturamento_valido)\n",
    "    media_mensal = sum(faturamento_valido) / len(faturamento_valido)\n",
    "    dias_acima_da_media = sum(1 for valor in faturamento_valido if valor > media_mensal)\n",
    "    return menor_faturamento, maior_faturamento, dias_acima_da_media\n",
    "\n",
    "\n",
    "def main():\n",
    "    # Exemplo de dados JSON pois não encontrei o disponível\n",
    "    dados_faturamento = \"\"\"\n",
    "    [\n",
    "        {\"dia\": 1, \"valor\": 22454.16},\n",
    "        {\"dia\": 2, \"valor\": 643537.46},\n",
    "        {\"dia\": 3, \"valor\": 26139.31},\n",
    "        {\"dia\": 4, \"valor\": 0.00},\n",
    "        {\"dia\": 5, \"valor\": 2.00},\n",
    "        {\"dia\": 6, \"valor\": 64742.46},\n",
    "        {\"dia\": 7, \"valor\": 0.30},\n",
    "        {\"dia\": 8, \"valor\": 44845.52},\n",
    "        {\"dia\": 9, \"valor\": 63485.77},\n",
    "        {\"dia\": 10, \"valor\": 49283.87},\n",
    "        {\"dia\": 11, \"valor\": 0.00},\n",
    "        {\"dia\": 12, \"valor\": 0.00},\n",
    "        {\"dia\": 13, \"valor\": 193.48},\n",
    "        {\"dia\": 14, \"valor\": 3850.28},\n",
    "        {\"dia\": 15, \"valor\": 39583.75},\n",
    "        {\"dia\": 16, \"valor\": 29.44},\n",
    "        {\"dia\": 17, \"valor\": 284068.66},\n",
    "        {\"dia\": 18, \"valor\": 0.01},\n",
    "        {\"dia\": 19, \"valor\": 0.00},\n",
    "        {\"dia\": 20, \"valor\": 3857.38},\n",
    "        {\"dia\": 21, \"valor\": 195.43},\n",
    "        {\"dia\": 22, \"valor\": 3485.65},\n",
    "        {\"dia\": 23, \"valor\": 80254.06},\n",
    "        {\"dia\": 24, \"valor\": 435.10},\n",
    "        {\"dia\": 25, \"valor\": 0.00},\n",
    "        {\"dia\": 26, \"valor\": 0.00},\n",
    "        {\"dia\": 27, \"valor\": 483.73},\n",
    "        {\"dia\": 28, \"valor\": 7548.14},\n",
    "        {\"dia\": 29, \"valor\": 34583.43},\n",
    "        {\"dia\": 30, \"valor\": 584378.62}\n",
    "    ]\n",
    "    \"\"\"\n",
    "\n",
    "    dados = json.loads(dados_faturamento)\n",
    "\n",
    "    menor_faturamento, maior_faturamento, dias_acima_da_media = calcular_faturamento(dados)\n",
    "\n",
    "    print(f\"Menor valor de faturamento: {menor_faturamento}\")\n",
    "    print(f\"Maior valor de faturamento: {maior_faturamento}\")\n",
    "    print(f\"Número de dias com faturamento acima da média: {dias_acima_da_media}\")\n",
    "\n",
    "if __name__ == \"__main__\":\n",
    "    main()"
   ]
  },
  {
   "cell_type": "code",
   "execution_count": 5,
   "metadata": {},
   "outputs": [
    {
     "name": "stdout",
     "output_type": "stream",
     "text": [
      "SP: 37.53%\n",
      "RJ: 20.29%\n",
      "MG: 16.17%\n",
      "ES: 15.03%\n",
      "Outros: 10.98%\n"
     ]
    }
   ],
   "source": [
    "# Questão 4\n",
    "def calcular_percentuais(faturamento_estados):\n",
    "    total = sum(faturamento_estados.values())\n",
    "    percentuais = {estado: (valor / total) * 100 for estado, valor in faturamento_estados.items()}\n",
    "    return percentuais\n",
    "\n",
    "def main():\n",
    "    faturamento_estados = {\n",
    "        \"SP\": 67836.43,\n",
    "        \"RJ\": 36678.66,\n",
    "        \"MG\": 29229.88,\n",
    "        \"ES\": 27165.48,\n",
    "        \"Outros\": 19849.53\n",
    "    }\n",
    "\n",
    "    percentuais = calcular_percentuais(faturamento_estados)\n",
    "\n",
    "    for estado, percentual in percentuais.items():\n",
    "        print(f\"{estado}: {percentual:.2f}%\")\n",
    "\n",
    "if __name__ == \"__main__\":\n",
    "    main()\n"
   ]
  },
  {
   "cell_type": "code",
   "execution_count": 8,
   "metadata": {},
   "outputs": [
    {
     "name": "stdout",
     "output_type": "stream",
     "text": [
      "etalocohc\n"
     ]
    }
   ],
   "source": [
    "# Questão 5\n",
    "\n",
    "def inverter_string(s):\n",
    "    invertida = \"\"\n",
    "    for i in range(len(s) - 1, -1, -1):\n",
    "        invertida += s[i]\n",
    "\n",
    "    return invertida\n",
    "\n",
    "def main():\n",
    "    string = input(\"Informe uma string para ser invertida: \")\n",
    "    resultado = inverter_string(string)\n",
    "\n",
    "    print(resultado)\n",
    "\n",
    "if __name__ == \"__main__\":\n",
    "    main()"
   ]
  }
 ],
 "metadata": {
  "kernelspec": {
   "display_name": "Python 3",
   "language": "python",
   "name": "python3"
  },
  "language_info": {
   "codemirror_mode": {
    "name": "ipython",
    "version": 3
   },
   "file_extension": ".py",
   "mimetype": "text/x-python",
   "name": "python",
   "nbconvert_exporter": "python",
   "pygments_lexer": "ipython3",
   "version": "3.12.5"
  }
 },
 "nbformat": 4,
 "nbformat_minor": 2
}
